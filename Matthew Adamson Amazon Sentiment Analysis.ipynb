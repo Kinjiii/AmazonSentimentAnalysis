{
 "cells": [
  {
   "cell_type": "code",
   "execution_count": null,
   "id": "79524398",
   "metadata": {},
   "outputs": [],
   "source": [
    "# https://www.kaggle.com/datasets/kritanjalijain/amazon-reviews"
   ]
  },
  {
   "cell_type": "code",
   "execution_count": 1,
   "id": "acb8f59b",
   "metadata": {},
   "outputs": [],
   "source": [
    "# Importing Python libraries and modules commonly used for data analysis\n",
    "# natural language processing, and machine learning tasks\n",
    "import pandas as pd\n",
    "import numpy as np\n",
    "import seaborn as sns\n",
    "import matplotlib.pyplot as plt\n",
    "import time\n",
    "\n",
    "import warnings\n",
    "warnings.filterwarnings(\"ignore\")\n",
    "\n",
    "import itertools\n",
    "from sklearn.metrics import confusion_matrix, classification_report, accuracy_score\n",
    "\n",
    "import tensorflow as tf\n",
    "from tensorflow.keras.layers import Embedding, Dense, BatchNormalization\n",
    "from tensorflow.keras.preprocessing.text import Tokenizer\n",
    "from tensorflow.keras.preprocessing.sequence import pad_sequences\n",
    "from tensorflow.keras.layers import Embedding, Bidirectional, LSTM, Dense, Dropout\n",
    "from tensorflow.keras.models import Sequential\n",
    "from tensorflow.keras.preprocessing.text import Tokenizer\n",
    "from tensorflow.keras.optimizers import Adam\n",
    "from tensorflow.keras.callbacks import EarlyStopping, ModelCheckpoint, LearningRateScheduler\n",
    "from tensorflow.keras.utils import to_categorical"
   ]
  },
  {
   "cell_type": "code",
   "execution_count": 2,
   "id": "28a9238d",
   "metadata": {},
   "outputs": [],
   "source": [
    "# Importing our training dataset\n",
    "df = pd.read_csv('train.csv' , header = None)"
   ]
  },
  {
   "cell_type": "code",
   "execution_count": 3,
   "id": "a58bcd30",
   "metadata": {},
   "outputs": [],
   "source": [
    "# Importing out test dataset\n",
    "df_test = pd.read_csv('test.csv', header = None)"
   ]
  },
  {
   "cell_type": "code",
   "execution_count": 4,
   "id": "d2dce5be",
   "metadata": {},
   "outputs": [
    {
     "data": {
      "text/plain": [
       "(3600000, 3)"
      ]
     },
     "execution_count": 4,
     "metadata": {},
     "output_type": "execute_result"
    }
   ],
   "source": [
    "# Get the shape(number of rows and columns)\n",
    "df.shape"
   ]
  },
  {
   "cell_type": "code",
   "execution_count": 5,
   "id": "7f5fe707",
   "metadata": {},
   "outputs": [
    {
     "data": {
      "text/plain": [
       "(400000, 3)"
      ]
     },
     "execution_count": 5,
     "metadata": {},
     "output_type": "execute_result"
    }
   ],
   "source": [
    "# Get the shape(number of rows and columns)\n",
    "df_test.shape"
   ]
  },
  {
   "cell_type": "code",
   "execution_count": 6,
   "id": "f8291eac",
   "metadata": {},
   "outputs": [],
   "source": [
    "# Randomly shuffling all the rows in the dataframes\n",
    "df = df.sample(100_000)\n",
    "df = df.sample(len(df))\n",
    "df_test = df_test.sample(len(df_test)) "
   ]
  },
  {
   "cell_type": "code",
   "execution_count": 7,
   "id": "4d5cf61e",
   "metadata": {},
   "outputs": [],
   "source": [
    "# Creating a new column called 'title_text' in both dataframes\n",
    "df['title_text'] = df[1] + ' ' + df[2]\n",
    "df_test['title_text'] = df_test[1] + ' ' + df_test[2]"
   ]
  },
  {
   "cell_type": "code",
   "execution_count": 8,
   "id": "25e1620e",
   "metadata": {},
   "outputs": [
    {
     "data": {
      "text/html": [
       "<div>\n",
       "<style scoped>\n",
       "    .dataframe tbody tr th:only-of-type {\n",
       "        vertical-align: middle;\n",
       "    }\n",
       "\n",
       "    .dataframe tbody tr th {\n",
       "        vertical-align: top;\n",
       "    }\n",
       "\n",
       "    .dataframe thead th {\n",
       "        text-align: right;\n",
       "    }\n",
       "</style>\n",
       "<table border=\"1\" class=\"dataframe\">\n",
       "  <thead>\n",
       "    <tr style=\"text-align: right;\">\n",
       "      <th></th>\n",
       "      <th>0</th>\n",
       "      <th>1</th>\n",
       "      <th>2</th>\n",
       "      <th>title_text</th>\n",
       "    </tr>\n",
       "  </thead>\n",
       "  <tbody>\n",
       "    <tr>\n",
       "      <th>2394220</th>\n",
       "      <td>1</td>\n",
       "      <td>Stopping remaking classic TV</td>\n",
       "      <td>This is destined to go into the cinematic tras...</td>\n",
       "      <td>Stopping remaking classic TV This is destined ...</td>\n",
       "    </tr>\n",
       "    <tr>\n",
       "      <th>1345650</th>\n",
       "      <td>1</td>\n",
       "      <td>Cheap and flimsy</td>\n",
       "      <td>I love this product and have used the Black an...</td>\n",
       "      <td>Cheap and flimsy I love this product and have ...</td>\n",
       "    </tr>\n",
       "    <tr>\n",
       "      <th>389620</th>\n",
       "      <td>1</td>\n",
       "      <td>Stella doll</td>\n",
       "      <td>The pacifier has a magnet in it that I was afr...</td>\n",
       "      <td>Stella doll The pacifier has a magnet in it th...</td>\n",
       "    </tr>\n",
       "    <tr>\n",
       "      <th>1125874</th>\n",
       "      <td>2</td>\n",
       "      <td>Two are better than one</td>\n",
       "      <td>This volume of two Paula Vogel plays is a very...</td>\n",
       "      <td>Two are better than one This volume of two Pau...</td>\n",
       "    </tr>\n",
       "    <tr>\n",
       "      <th>2110430</th>\n",
       "      <td>1</td>\n",
       "      <td>Not good</td>\n",
       "      <td>Not what I expected it to be. Much larger than...</td>\n",
       "      <td>Not good Not what I expected it to be. Much la...</td>\n",
       "    </tr>\n",
       "  </tbody>\n",
       "</table>\n",
       "</div>"
      ],
      "text/plain": [
       "         0                             1  \\\n",
       "2394220  1  Stopping remaking classic TV   \n",
       "1345650  1              Cheap and flimsy   \n",
       "389620   1                   Stella doll   \n",
       "1125874  2       Two are better than one   \n",
       "2110430  1                      Not good   \n",
       "\n",
       "                                                         2  \\\n",
       "2394220  This is destined to go into the cinematic tras...   \n",
       "1345650  I love this product and have used the Black an...   \n",
       "389620   The pacifier has a magnet in it that I was afr...   \n",
       "1125874  This volume of two Paula Vogel plays is a very...   \n",
       "2110430  Not what I expected it to be. Much larger than...   \n",
       "\n",
       "                                                title_text  \n",
       "2394220  Stopping remaking classic TV This is destined ...  \n",
       "1345650  Cheap and flimsy I love this product and have ...  \n",
       "389620   Stella doll The pacifier has a magnet in it th...  \n",
       "1125874  Two are better than one This volume of two Pau...  \n",
       "2110430  Not good Not what I expected it to be. Much la...  "
      ]
     },
     "execution_count": 8,
     "metadata": {},
     "output_type": "execute_result"
    }
   ],
   "source": [
    "# Display the first few rows of the DataFrame\n",
    "df.head()"
   ]
  },
  {
   "cell_type": "code",
   "execution_count": 9,
   "id": "f68aa977",
   "metadata": {},
   "outputs": [
    {
     "data": {
      "text/html": [
       "<div>\n",
       "<style scoped>\n",
       "    .dataframe tbody tr th:only-of-type {\n",
       "        vertical-align: middle;\n",
       "    }\n",
       "\n",
       "    .dataframe tbody tr th {\n",
       "        vertical-align: top;\n",
       "    }\n",
       "\n",
       "    .dataframe thead th {\n",
       "        text-align: right;\n",
       "    }\n",
       "</style>\n",
       "<table border=\"1\" class=\"dataframe\">\n",
       "  <thead>\n",
       "    <tr style=\"text-align: right;\">\n",
       "      <th></th>\n",
       "      <th>0</th>\n",
       "      <th>1</th>\n",
       "      <th>2</th>\n",
       "      <th>title_text</th>\n",
       "    </tr>\n",
       "  </thead>\n",
       "  <tbody>\n",
       "    <tr>\n",
       "      <th>100964</th>\n",
       "      <td>2</td>\n",
       "      <td>An excellent video for the young people .</td>\n",
       "      <td>This movie will keep you laughing the whole wa...</td>\n",
       "      <td>An excellent video for the young people . This...</td>\n",
       "    </tr>\n",
       "    <tr>\n",
       "      <th>17588</th>\n",
       "      <td>2</td>\n",
       "      <td>Useful and fun to build</td>\n",
       "      <td>A nice unit for the hobbyist electronic, I've ...</td>\n",
       "      <td>Useful and fun to build A nice unit for the ho...</td>\n",
       "    </tr>\n",
       "    <tr>\n",
       "      <th>155586</th>\n",
       "      <td>1</td>\n",
       "      <td>Would be great if it didn't have so many probl...</td>\n",
       "      <td>I think this program would be great, but it ke...</td>\n",
       "      <td>Would be great if it didn't have so many probl...</td>\n",
       "    </tr>\n",
       "    <tr>\n",
       "      <th>82604</th>\n",
       "      <td>1</td>\n",
       "      <td>BADLY edited! Not what you expect</td>\n",
       "      <td>I am a big Survivor fan and I was disappointed...</td>\n",
       "      <td>BADLY edited! Not what you expect I am a big S...</td>\n",
       "    </tr>\n",
       "    <tr>\n",
       "      <th>104508</th>\n",
       "      <td>1</td>\n",
       "      <td>A tedious 382 pages</td>\n",
       "      <td>Mr. Venkatesh obviously immersed himself in th...</td>\n",
       "      <td>A tedious 382 pages Mr. Venkatesh obviously im...</td>\n",
       "    </tr>\n",
       "  </tbody>\n",
       "</table>\n",
       "</div>"
      ],
      "text/plain": [
       "        0                                                  1  \\\n",
       "100964  2          An excellent video for the young people .   \n",
       "17588   2                            Useful and fun to build   \n",
       "155586  1  Would be great if it didn't have so many probl...   \n",
       "82604   1                  BADLY edited! Not what you expect   \n",
       "104508  1                                A tedious 382 pages   \n",
       "\n",
       "                                                        2  \\\n",
       "100964  This movie will keep you laughing the whole wa...   \n",
       "17588   A nice unit for the hobbyist electronic, I've ...   \n",
       "155586  I think this program would be great, but it ke...   \n",
       "82604   I am a big Survivor fan and I was disappointed...   \n",
       "104508  Mr. Venkatesh obviously immersed himself in th...   \n",
       "\n",
       "                                               title_text  \n",
       "100964  An excellent video for the young people . This...  \n",
       "17588   Useful and fun to build A nice unit for the ho...  \n",
       "155586  Would be great if it didn't have so many probl...  \n",
       "82604   BADLY edited! Not what you expect I am a big S...  \n",
       "104508  A tedious 382 pages Mr. Venkatesh obviously im...  "
      ]
     },
     "execution_count": 9,
     "metadata": {},
     "output_type": "execute_result"
    }
   ],
   "source": [
    "# Display the first few rows of the DataFrame\n",
    "df_test.head()"
   ]
  },
  {
   "cell_type": "code",
   "execution_count": 10,
   "id": "cc26b032",
   "metadata": {},
   "outputs": [
    {
     "name": "stdout",
     "output_type": "stream",
     "text": [
      "<class 'pandas.core.frame.DataFrame'>\n",
      "Int64Index: 100000 entries, 2394220 to 462854\n",
      "Data columns (total 4 columns):\n",
      " #   Column      Non-Null Count   Dtype \n",
      "---  ------      --------------   ----- \n",
      " 0   0           100000 non-null  int64 \n",
      " 1   1           99996 non-null   object\n",
      " 2   2           100000 non-null  object\n",
      " 3   title_text  99996 non-null   object\n",
      "dtypes: int64(1), object(3)\n",
      "memory usage: 3.8+ MB\n"
     ]
    }
   ],
   "source": [
    "# Display information about the DataFrame\n",
    "df.info()"
   ]
  },
  {
   "cell_type": "code",
   "execution_count": 11,
   "id": "1b9a925a",
   "metadata": {
    "scrolled": false
   },
   "outputs": [
    {
     "name": "stdout",
     "output_type": "stream",
     "text": [
      "<class 'pandas.core.frame.DataFrame'>\n",
      "Int64Index: 400000 entries, 100964 to 367986\n",
      "Data columns (total 4 columns):\n",
      " #   Column      Non-Null Count   Dtype \n",
      "---  ------      --------------   ----- \n",
      " 0   0           400000 non-null  int64 \n",
      " 1   1           399990 non-null  object\n",
      " 2   2           400000 non-null  object\n",
      " 3   title_text  399990 non-null  object\n",
      "dtypes: int64(1), object(3)\n",
      "memory usage: 15.3+ MB\n"
     ]
    }
   ],
   "source": [
    "# Display information about the DataFrame\n",
    "df_test.info()"
   ]
  },
  {
   "cell_type": "code",
   "execution_count": 12,
   "id": "3965d000",
   "metadata": {},
   "outputs": [
    {
     "data": {
      "text/plain": [
       "Stopping remaking classic TV This is destined to go into the cinematic trash can along with the abomination that was \"Thunderbirds\".Please someone tell movie execs top lay off cult TV shows.The ONLY movie adapted from a TV program that worked was \"The Fugitive\".If the movie industry is batting 1 for a zillion, they should stop what they are doing and invest in some ORIGINAL IDEAS.                                                                                                                                                                                                                                                                                                                                                                                                                                                                                                                                                                                                           1\n",
       "Sony battery charger To charge the battery you need an extra lego peace, or put the battery in special position and the top can`t be closed. It may work first time or not. In my case the product was defect.                                                                                                                                                                                                                                                                                                                                                                                                                                                                                                                                                                                                                                                                                                                                                                                            1\n",
       "Snow White & the Huntsman The movie was okay, but it did not hold my total attention. There was too much hype about this movie. I have to watch it again with full attention to it.                                                                                                                                                                                                                                                                                                                                                                                                                                                                                                                                                                                                                                                                                                                                                                                                                       1\n",
       "Chicken Boy Purchased this book for my son who is trying out for Battle of the Books. Was a good book but not a great book. Was on the list to read.                                                                                                                                                                                                                                                                                                                                                                                                                                                                                                                                                                                                                                                                                                                                                                                                                                                      1\n",
       "ANDRE THE BUTCHER UNRATED DVD Ron Jeremy running around killing people, need I say more? Obviously, I knew this movie was going to be horrible, but I think it was one of those B rated movies where the plot was suppose to be funny. This movie is worth watching but only for some laughs.Overall, the fight scene between the two cheerleader teams and the childish vocabulary were the best parts in this movie, in my opinion.                                                                                                                                                                                                                                                                                                                                                                                                                                                                                                                                                                     1\n",
       "                                                                                                                                                                                                                                                                                                                                                                                                                                                                                                                                                                                                                                                                                                                                                                                                                                                                                                                                                                                                         ..\n",
       "LINDA EDER IS A SUPER TALENT WHO NEEDS ANOTHER DIRECTION Linda Eder is one of my favorite contemporary singers, however, please get a grip on what is good! What a wasted voice on such mediocrity. LINDA PLEASE HOOK UP WITH OTHER PRODUCERS/SONGWRITERS! This woman is on the cusp of greatness, and platinum records, but even Rosie ODonnell and countless performances on Regis and the Today show cannot save this dud. Her other albums should be bought, this one should be shelved. I know she is in love with Frank Wildhorn, and I know he has produced incredible musicals, but she needs to work with someone else. Someone who knows how to produce a hit record, a radio-friendly record, not this \"material.\" Atlantic will release \"Here Comes the Sun\" to an unready, and uninterested public. Push the marketing machine on catchy pop please. Show the world the instrument that is Eder's voice. Linda Eder will be without a loyal audience if she makes another \"GOLD\" mistake.    1\n",
       "my three year old loves it!657 My daughter is three and watches this video over and over. She is mesmerized. She dances while she watches it, and sings the songs later in the day. I don't mind watching it repeatedly, unlike some shows.                                                                                                                                                                                                                                                                                                                                                                                                                                                                                                                                                                                                                                                                                                                                                               1\n",
       "Galloway I always rate L'Amour with a 5 star. I have read all his books and I am now buying them for my family. My husband can no longer read complicated books with lots of characters because of his memory. But he has no problems with the plots andcharacters in these books. L'Amour captures readers from teenagers all the way to old people. He was Ike's favorite author.I gave my first set to my patients when I did home health.                                                                                                                                                                                                                                                                                                                                                                                                                                                                                                                                                             1\n",
       "Cute, Cute, Cute This is such a cute item. It is just as pictured. There are many different activities for baby. The wings crinkle, the head is a rattle, there is a mirror, a teether, squeak toy, the rings stretch and many different textures for baby to explore. My grandson will love it. Amazon is always the cheapest price and everything ships so fast. Makes shopping so easy.                                                                                                                                                                                                                                                                                                                                                                                                                                                                                                                                                                                                                1\n",
       "Good Product It works as advertised. So far no problems. This is my second purchase. A friend did a number on the first one with his SK. He owes me for that one.                                                                                                                                                                                                                                                                                                                                                                                                                                                                                                                                                                                                                                                                                                                                                                                                                                         1\n",
       "Name: title_text, Length: 99996, dtype: int64"
      ]
     },
     "execution_count": 12,
     "metadata": {},
     "output_type": "execute_result"
    }
   ],
   "source": [
    "df['title_text'].value_counts()"
   ]
  },
  {
   "cell_type": "code",
   "execution_count": 13,
   "id": "a499ed86",
   "metadata": {},
   "outputs": [],
   "source": [
    "# Remove rows containing missing values (NaN or None) \n",
    "df_test.dropna(inplace = True)"
   ]
  },
  {
   "cell_type": "code",
   "execution_count": 14,
   "id": "e2d382d5",
   "metadata": {},
   "outputs": [],
   "source": [
    "# Create a new column 'label' in the DataFrame 'df' based on a condition\n",
    "# This line checks if the values in column 0 (assumed to be a binary indicator) are equal to 1\n",
    "# If the value is 1, it assigns 0 to the 'label' column; otherwise, it assigns 1\n",
    "df['label'] = df[0].apply(lambda x: 0 if x == 1 else 1) "
   ]
  },
  {
   "cell_type": "code",
   "execution_count": 15,
   "id": "8a0ee468",
   "metadata": {},
   "outputs": [],
   "source": [
    "# Create a similar 'label' column in the DataFrame 'df_test' based on a condition\n",
    "# This line checks if the values in column 0 of 'df_test' are equal to 1\n",
    "# If the value is 1, it assigns 0 to the 'label' column; otherwise, it assigns 1\n",
    "df_test['label'] = df_test[0].apply(lambda x: 0 if x == 1 else 1) "
   ]
  },
  {
   "cell_type": "code",
   "execution_count": 16,
   "id": "535119be",
   "metadata": {
    "scrolled": true
   },
   "outputs": [
    {
     "data": {
      "text/plain": [
       "array(['Stopping remaking classic TV This is destined to go into the cinematic trash can along with the abomination that was \"Thunderbirds\".Please someone tell movie execs top lay off cult TV shows.The ONLY movie adapted from a TV program that worked was \"The Fugitive\".If the movie industry is batting 1 for a zillion, they should stop what they are doing and invest in some ORIGINAL IDEAS.',\n",
       "       'Cheap and flimsy I love this product and have used the Black and Decker steamer almost on a daily basis for the last 15 years. This would be my fourth one over that time period. I ordered this when my last one stopped working. This product does not compare AT ALL to the prior versions. The clear plastic bin is very thin and flimsy. There is no longer a fill line inside and the new method for putting water in does not work. Half the time I end up spilling water all over the counter. I am expecting this to be broken within the next 6 months where the prior models lasted me over 5 years each. I am sad to said it is time to find another brand.',\n",
       "       \"Stella doll The pacifier has a magnet in it that I was afraid could be chewed off and swallowed by samll granddaughter or pet. Didn't feel it was a safe toy. I would not recommend this doll.\"],\n",
       "      dtype='<U1014')"
      ]
     },
     "execution_count": 16,
     "metadata": {},
     "output_type": "execute_result"
    }
   ],
   "source": [
    "# Create a NumPy array 'x_train' containing the 'title_text' column values from 'df'\n",
    "x_train = np.array(df['title_text'] , dtype = 'str')\n",
    "x_train[:3]"
   ]
  },
  {
   "cell_type": "code",
   "execution_count": 17,
   "id": "a4825e34",
   "metadata": {},
   "outputs": [],
   "source": [
    "# Create a NumPy array 'y_train' containing the 'label' column values from 'df'\n",
    "y_train = np.array(df['label'] , dtype = 'int32')"
   ]
  },
  {
   "cell_type": "code",
   "execution_count": 18,
   "id": "05ee63a6",
   "metadata": {},
   "outputs": [],
   "source": [
    "# Create a NumPy array 'x_test' containing the 'title_text' column values from 'df_test'\n",
    "x_test = np.array(df_test['title_text'] , dtype = 'str')\n",
    "\n",
    "# Create a NumPy array 'y_test' containing the 'label' column values from 'df_test'\n",
    "y_test = np.array(df_test['label'] , dtype = 'int32')"
   ]
  },
  {
   "cell_type": "code",
   "execution_count": 19,
   "id": "771df7d7",
   "metadata": {
    "scrolled": true
   },
   "outputs": [
    {
     "data": {
      "text/plain": [
       "array([1, 1, 0, ..., 0, 1, 0])"
      ]
     },
     "execution_count": 19,
     "metadata": {},
     "output_type": "execute_result"
    }
   ],
   "source": [
    "# See the newly created array\n",
    "y_test"
   ]
  },
  {
   "cell_type": "code",
   "execution_count": 20,
   "id": "861a1020",
   "metadata": {},
   "outputs": [],
   "source": [
    "# Calculating the average length of items in the 'x_train' list\n",
    "average_len = np.mean([len(item) for item in x_train])"
   ]
  },
  {
   "cell_type": "code",
   "execution_count": 21,
   "id": "a917ffe8",
   "metadata": {},
   "outputs": [
    {
     "name": "stdout",
     "output_type": "stream",
     "text": [
      "Length of a sample review: 429.88618\n"
     ]
    }
   ],
   "source": [
    "# Display the average length of comments \n",
    "print(f'Length of a sample review: {average_len}')"
   ]
  },
  {
   "cell_type": "code",
   "execution_count": 22,
   "id": "feb35b22",
   "metadata": {},
   "outputs": [],
   "source": [
    "# Calculating the maximum length 'max_len' by adding 100 to the 'average_len'\n",
    "max_len = int(average_len + 100)"
   ]
  },
  {
   "cell_type": "code",
   "execution_count": 23,
   "id": "fc7ed1db",
   "metadata": {},
   "outputs": [],
   "source": [
    "# Create a Tokenizer with a vocabulary size of 10,000 and a special token for out-of-vocabulary words\n",
    "tokenizer = Tokenizer(num_words = 10_000 , oov_token='<OOV>')\n",
    "\n",
    "# Fit the Tokenizer on the training text data 'x_train'\n",
    "tokenizer.fit_on_texts(x_train)\n",
    "\n",
    "# Convert the training and test text data into sequences of integers using the Tokenizer\n",
    "train_seq = tokenizer.texts_to_sequences(x_train)\n",
    "test_seq = tokenizer.texts_to_sequences(x_test)"
   ]
  },
  {
   "cell_type": "code",
   "execution_count": 24,
   "id": "98b2819e",
   "metadata": {},
   "outputs": [],
   "source": [
    "# Pad the training sequences to the maximum length\n",
    "train_pad = pad_sequences(train_seq , maxlen = max_len )\n",
    "\n",
    "# Pad the test sequences to the maximum length\n",
    "test_pad = pad_sequences(test_seq , maxlen = max_len )"
   ]
  },
  {
   "cell_type": "code",
   "execution_count": 25,
   "id": "7b09a91b",
   "metadata": {},
   "outputs": [],
   "source": [
    "# Convert the categorical labels 'y_train' into one-hot encoded format\n",
    "train_label = to_categorical(y_train) \n",
    "\n",
    "# Convert the categorical labels 'y_test' into one-hot encoded format\n",
    "test_label = to_categorical(y_test)"
   ]
  },
  {
   "cell_type": "code",
   "execution_count": 26,
   "id": "f4efeefc",
   "metadata": {},
   "outputs": [
    {
     "data": {
      "text/plain": [
       "array([0, 0, 0, ..., 0, 0, 1])"
      ]
     },
     "execution_count": 26,
     "metadata": {},
     "output_type": "execute_result"
    }
   ],
   "source": [
    "# Display the array\n",
    "y_train"
   ]
  },
  {
   "cell_type": "code",
   "execution_count": 27,
   "id": "4ad1f339",
   "metadata": {},
   "outputs": [
    {
     "name": "stdout",
     "output_type": "stream",
     "text": [
      "Model: \"sequential\"\n",
      "_________________________________________________________________\n",
      " Layer (type)                Output Shape              Param #   \n",
      "=================================================================\n",
      " embedding (Embedding)       (None, None, 16)          160000    \n",
      "                                                                 \n",
      " bidirectional (Bidirection  (None, None, 32)          4224      \n",
      " al)                                                             \n",
      "                                                                 \n",
      " batch_normalization (Batch  (None, None, 32)          128       \n",
      " Normalization)                                                  \n",
      "                                                                 \n",
      " bidirectional_1 (Bidirecti  (None, 64)                16640     \n",
      " onal)                                                           \n",
      "                                                                 \n",
      " dropout (Dropout)           (None, 64)                0         \n",
      "                                                                 \n",
      " dense (Dense)               (None, 512)               33280     \n",
      "                                                                 \n",
      " dense_1 (Dense)             (None, 1)                 513       \n",
      "                                                                 \n",
      "=================================================================\n",
      "Total params: 214785 (839.00 KB)\n",
      "Trainable params: 214721 (838.75 KB)\n",
      "Non-trainable params: 64 (256.00 Byte)\n",
      "_________________________________________________________________\n"
     ]
    }
   ],
   "source": [
    "# Create a sequential model\n",
    "model = Sequential([\n",
    "    # Embedding layer with 10,000 input dimensions and 16 output dimensions\n",
    "    Embedding(10_000, 16),\n",
    "\n",
    "    # Bidirectional LSTM layer with 16 units and return_sequences=True\n",
    "    Bidirectional(LSTM(16, return_sequences=True)),\n",
    "\n",
    "    # BatchNormalization layer\n",
    "    BatchNormalization(),\n",
    "\n",
    "    # Bidirectional LSTM layer with 32 units\n",
    "    Bidirectional(LSTM(32)),\n",
    "\n",
    "    # Dropout layer with a dropout rate of 20%\n",
    "    Dropout(0.2),\n",
    "\n",
    "    # Dense (fully connected) layer with 512 units and ReLU activation\n",
    "    Dense(512, activation='relu'),\n",
    "\n",
    "    # Output layer with 1 unit and sigmoid activation for binary classification\n",
    "    Dense(1, activation='sigmoid')\n",
    "])\n",
    "\n",
    "# Display a summary of the model's architecture\n",
    "model.summary()"
   ]
  },
  {
   "cell_type": "code",
   "execution_count": 28,
   "id": "3fb25f54",
   "metadata": {},
   "outputs": [],
   "source": [
    "# Compile the model\n",
    "model.compile(loss = 'binary_crossentropy', # Binary cross-entropy loss for binary classification\n",
    "              optimizer = 'adam',           # Adam optimizer\n",
    "              metrics = ['accuracy'])       # Metric to monitor during training (accuracy)"
   ]
  },
  {
   "cell_type": "code",
   "execution_count": 29,
   "id": "17df8f5e",
   "metadata": {},
   "outputs": [
    {
     "name": "stdout",
     "output_type": "stream",
     "text": [
      "Epoch 1/10\n",
      "2813/2813 [==============================] - 473s 167ms/step - loss: 0.3090 - accuracy: 0.8675 - val_loss: 0.2326 - val_accuracy: 0.9083\n",
      "Epoch 2/10\n",
      "2813/2813 [==============================] - 462s 164ms/step - loss: 0.1934 - accuracy: 0.9261 - val_loss: 0.2124 - val_accuracy: 0.9128\n",
      "Epoch 3/10\n",
      "2813/2813 [==============================] - 456s 162ms/step - loss: 0.1491 - accuracy: 0.9446 - val_loss: 0.2143 - val_accuracy: 0.9173\n",
      "Epoch 4/10\n",
      "2813/2813 [==============================] - 453s 161ms/step - loss: 0.1146 - accuracy: 0.9596 - val_loss: 0.2227 - val_accuracy: 0.9142\n",
      "Epoch 5/10\n",
      "2813/2813 [==============================] - 462s 164ms/step - loss: 0.0866 - accuracy: 0.9712 - val_loss: 0.2706 - val_accuracy: 0.9078\n",
      "Epoch 6/10\n",
      "2813/2813 [==============================] - 466s 166ms/step - loss: 0.0666 - accuracy: 0.9783 - val_loss: 0.2794 - val_accuracy: 0.9137\n",
      "Epoch 7/10\n",
      "2813/2813 [==============================] - 471s 168ms/step - loss: 0.0527 - accuracy: 0.9833 - val_loss: 0.3217 - val_accuracy: 0.9074\n",
      "Epoch 8/10\n",
      "2813/2813 [==============================] - 468s 167ms/step - loss: 0.0414 - accuracy: 0.9873 - val_loss: 0.3571 - val_accuracy: 0.9101\n",
      "Epoch 9/10\n",
      "2813/2813 [==============================] - 464s 165ms/step - loss: 0.0347 - accuracy: 0.9894 - val_loss: 0.4094 - val_accuracy: 0.8999\n",
      "Epoch 10/10\n",
      "2813/2813 [==============================] - 466s 166ms/step - loss: 0.0283 - accuracy: 0.9916 - val_loss: 0.4052 - val_accuracy: 0.9102\n",
      "CPU times: total: 7h 46min 13s\n",
      "Wall time: 1h 17min 23s\n"
     ]
    }
   ],
   "source": [
    "%%time\n",
    "# Train the model using the training data\n",
    "modelled_data = model.fit(\n",
    "    train_pad,              # Input training data (padded sequences)\n",
    "    y_train,                # Target labels (categorical labels)\n",
    "    validation_split=0.1,   # Fraction of the training data to use for validation\n",
    "    epochs=10               # Number of training epochs\n",
    ")"
   ]
  },
  {
   "cell_type": "code",
   "execution_count": 30,
   "id": "a1784d52",
   "metadata": {},
   "outputs": [
    {
     "data": {
      "image/png": "[encoded data removed]",
      "text/plain": [
       "<Figure size 640x480 with 1 Axes>"
      ]
     },
     "metadata": {},
     "output_type": "display_data"
    }
   ],
   "source": [
    "# Extract training loss values from the training history\n",
    "loss = modelled_data.history['loss']\n",
    "\n",
    "# Extract validation loss values from the training history\n",
    "val_loss = modelled_data.history['val_loss']\n",
    "\n",
    "# Plot the training loss and validation loss over epochs\n",
    "plt.plot(loss, 'b', label='train loss')        # Blue line for training loss\n",
    "plt.plot(val_loss, 'orange', label='validation loss')  # Orange line for validation loss\n",
    "\n",
    "# Add a legend to the plot to distinguish training and validation loss\n",
    "plt.legend()\n",
    "\n",
    "# Display the plot\n",
    "plt.show()"
   ]
  },
  {
   "cell_type": "code",
   "execution_count": 31,
   "id": "ce4a1065",
   "metadata": {},
   "outputs": [
    {
     "data": {
      "image/png": "[encoded data removed]",
      "text/plain": [
       "<Figure size 640x480 with 1 Axes>"
      ]
     },
     "metadata": {},
     "output_type": "display_data"
    }
   ],
   "source": [
    "# Extract training accuracy values from the training history\n",
    "acc = modelled_data.history['accuracy']\n",
    "\n",
    "# Extract validation accuracy values from the training history\n",
    "val_acc = modelled_data.history['val_accuracy']\n",
    "\n",
    "# Plot the training accuracy and validation accuracy over epochs\n",
    "plt.plot(acc, 'b', label='train accuracy')           # Blue line for training accuracy\n",
    "plt.plot(val_acc, 'orange', label='validation accuracy')  # Orange line for validation accuracy\n",
    "\n",
    "# Add a legend to the plot to distinguish training and validation accuracy\n",
    "plt.legend()\n",
    "\n",
    "# Display the plot\n",
    "plt.show()"
   ]
  },
  {
   "cell_type": "code",
   "execution_count": 32,
   "id": "7303dd7c",
   "metadata": {
    "scrolled": true
   },
   "outputs": [
    {
     "name": "stdout",
     "output_type": "stream",
     "text": [
      "12500/12500 [==============================] - 492s 39ms/step - loss: 0.4208 - accuracy: 0.9073\n"
     ]
    },
    {
     "data": {
      "text/plain": [
       "[0.42079469561576843, 0.907345175743103]"
      ]
     },
     "execution_count": 32,
     "metadata": {},
     "output_type": "execute_result"
    }
   ],
   "source": [
    "# Evaluate the trained model on the test data\n",
    "model.evaluate(test_pad , y_test)"
   ]
  },
  {
   "cell_type": "code",
   "execution_count": 33,
   "id": "f81c01ec",
   "metadata": {},
   "outputs": [],
   "source": [
    "# Save the entire model as a `.keras` zip archive.\n",
    "model.save('ST10114735 PDAN Task 1 - Amazon.keras')"
   ]
  },
  {
   "cell_type": "code",
   "execution_count": 34,
   "id": "7bb36366",
   "metadata": {},
   "outputs": [],
   "source": [
    "# Save model and its architecture \n",
    "model.save('ST10114735 PDAN Task 1.h5')"
   ]
  },
  {
   "cell_type": "code",
   "execution_count": 35,
   "id": "1813d965",
   "metadata": {},
   "outputs": [
    {
     "name": "stdout",
     "output_type": "stream",
     "text": [
      "Model: \"sequential\"\n",
      "_________________________________________________________________\n",
      " Layer (type)                Output Shape              Param #   \n",
      "=================================================================\n",
      " embedding (Embedding)       (None, None, 16)          160000    \n",
      "                                                                 \n",
      " bidirectional (Bidirection  (None, None, 32)          4224      \n",
      " al)                                                             \n",
      "                                                                 \n",
      " batch_normalization (Batch  (None, None, 32)          128       \n",
      " Normalization)                                                  \n",
      "                                                                 \n",
      " bidirectional_1 (Bidirecti  (None, 64)                16640     \n",
      " onal)                                                           \n",
      "                                                                 \n",
      " dropout (Dropout)           (None, 64)                0         \n",
      "                                                                 \n",
      " dense (Dense)               (None, 512)               33280     \n",
      "                                                                 \n",
      " dense_1 (Dense)             (None, 1)                 513       \n",
      "                                                                 \n",
      "=================================================================\n",
      "Total params: 214785 (839.00 KB)\n",
      "Trainable params: 214721 (838.75 KB)\n",
      "Non-trainable params: 64 (256.00 Byte)\n",
      "_________________________________________________________________\n"
     ]
    }
   ],
   "source": [
    "# Load our pre-trained Keras model from the file we saved earlier\n",
    "new_model = tf.keras.models.load_model('ST10114735 PDAN Task 1 - Amazon.keras')\n",
    "\n",
    "# Display a summary of the loaded model's architecture\n",
    "new_model.summary()"
   ]
  },
  {
   "cell_type": "code",
   "execution_count": 36,
   "id": "2507486e",
   "metadata": {
    "scrolled": true
   },
   "outputs": [
    {
     "name": "stdout",
     "output_type": "stream",
     "text": [
      "12500/12500 - 465s - loss: 0.4208 - accuracy: 0.9073 - 465s/epoch - 37ms/step\n",
      "Restored model, accuracy: 90.73%\n",
      "12500/12500 [==============================] - 467s 37ms/step\n",
      "(399990, 1)\n",
      "CPU times: total: 1h 20min 17s\n",
      "Wall time: 15min 35s\n"
     ]
    }
   ],
   "source": [
    "%%time\n",
    "# Evaluate the restored model\n",
    "loss, acc = new_model.evaluate(test_pad, y_test, verbose=2)\n",
    "print('Restored model, accuracy: {:5.2f}%'.format(100 * acc))\n",
    "\n",
    "y_pred = new_model.predict(test_pad)\n",
    "print(y_pred.shape)"
   ]
  },
  {
   "cell_type": "code",
   "execution_count": 37,
   "id": "2bbabac3",
   "metadata": {},
   "outputs": [],
   "source": [
    "y_pred=np.argmax(y_pred, axis=1)"
   ]
  },
  {
   "cell_type": "code",
   "execution_count": 38,
   "id": "0ecd38a0",
   "metadata": {},
   "outputs": [
    {
     "data": {
      "text/plain": [
       "Text(50.722222222222214, 0.5, 'y_pred')"
      ]
     },
     "execution_count": 38,
     "metadata": {},
     "output_type": "execute_result"
    },
    {
     "data": {
      "image/png": "[encoded data removed]",
      "text/plain": [
       "<Figure size 640x480 with 2 Axes>"
      ]
     },
     "metadata": {},
     "output_type": "display_data"
    }
   ],
   "source": [
    "cm=confusion_matrix(y_test,y_pred)\n",
    "ax=sns.heatmap(cm,annot=True,cmap='Blues',fmt=' ')\n",
    "ax.set_title('Confusion Matrix')\n",
    "ax.set_xlabel('y_test')\n",
    "ax.set_ylabel('y_pred')"
   ]
  },
  {
   "cell_type": "code",
   "execution_count": 39,
   "id": "7ef36d83",
   "metadata": {},
   "outputs": [
    {
     "name": "stdout",
     "output_type": "stream",
     "text": [
      "              precision    recall  f1-score   support\n",
      "\n",
      "           0       0.50      1.00      0.67    199993\n",
      "           1       0.00      0.00      0.00    199997\n",
      "\n",
      "    accuracy                           0.50    399990\n",
      "   macro avg       0.25      0.50      0.33    399990\n",
      "weighted avg       0.25      0.50      0.33    399990\n",
      "\n"
     ]
    }
   ],
   "source": [
    "print(classification_report(y_test,y_pred))"
   ]
  },
  {
   "cell_type": "code",
   "execution_count": 43,
   "id": "d5b5ee24",
   "metadata": {},
   "outputs": [
    {
     "name": "stdout",
     "output_type": "stream",
     "text": [
      "1/1 [==============================] - 0s 31ms/step\n",
      "[[0.9292794]]\n",
      "Positive\n"
     ]
    }
   ],
   "source": [
    "# Postive Sentiment\n",
    "pred_model = tf.keras.models.load_model('ST10114735 PDAN Task 1 - Amazon.keras')\n",
    "sequence = tokenizer.texts_to_sequences(['this amazon product is the best ever'])\n",
    "test = pad_sequences(sequence, maxlen=max_len)\n",
    "pred = model.predict(test)\n",
    "print(pred)\n",
    "if pred > 0.5:\n",
    "  print('Positive')\n",
    "else:\n",
    "  print('Negative')"
   ]
  },
  {
   "cell_type": "code",
   "execution_count": 44,
   "id": "9fce1122",
   "metadata": {},
   "outputs": [
    {
     "name": "stdout",
     "output_type": "stream",
     "text": [
      "1/1 [==============================] - 0s 31ms/step\n",
      "[[0.00055715]]\n",
      "Negative\n"
     ]
    }
   ],
   "source": [
    "# Negative Sentiment\n",
    "sequence = tokenizer.texts_to_sequences(['worst purchase ive made in my life ever'])\n",
    "test = pad_sequences(sequence, maxlen=max_len)\n",
    "pred = model.predict(test)\n",
    "print(pred)\n",
    "if pred > 0.5:\n",
    "  print('Positive')\n",
    "else:\n",
    "  print('Negative')"
   ]
  },
  {
   "cell_type": "code",
   "execution_count": 56,
   "id": "b072b2bc",
   "metadata": {},
   "outputs": [
    {
     "name": "stdout",
     "output_type": "stream",
     "text": [
      "1/1 [==============================] - 0s 32ms/step\n",
      "[[0.99856895]]\n",
      "Positive\n"
     ]
    }
   ],
   "source": [
    "# Positive again seeing a pattern here\n",
    "# Dataset might be overfit because its either super positive or super negative scores\n",
    "# If my hardware would work with my I would try and train more samples\n",
    "sequence = tokenizer.texts_to_sequences(['im happy with the quality of the item'])\n",
    "test = pad_sequences(sequence, maxlen=max_len)\n",
    "pred = model.predict(test)\n",
    "print(pred)\n",
    "if pred > 0.5:\n",
    "  print('Positive')\n",
    "else:\n",
    "  print('Negative')"
   ]
  },
  {
   "cell_type": "code",
   "execution_count": 55,
   "id": "920c2400",
   "metadata": {},
   "outputs": [
    {
     "name": "stdout",
     "output_type": "stream",
     "text": [
      "1/1 [==============================] - 0s 32ms/step\n",
      "[[0.01428914]]\n",
      "Negative\n"
     ]
    }
   ],
   "source": [
    "# Trying to get a score thats not 0.9 or 0.0x\n",
    "sequence = tokenizer.texts_to_sequences(['not the best, but not the worst'])\n",
    "test = pad_sequences(sequence, maxlen=max_len)\n",
    "pred = model.predict(test)\n",
    "print(pred)\n",
    "if pred > 0.5:\n",
    "  print('Positive')\n",
    "else:\n",
    "  print('Negative')"
   ]
  },
  {
   "cell_type": "code",
   "execution_count": 51,
   "id": "1bf6aca9",
   "metadata": {},
   "outputs": [
    {
     "name": "stdout",
     "output_type": "stream",
     "text": [
      "1/1 [==============================] - 0s 33ms/step\n",
      "[[0.767312]]\n",
      "Positive\n"
     ]
    }
   ],
   "source": [
    "# Lets try a more neutral review\n",
    "sequence = tokenizer.texts_to_sequences(['this toy car is slower than advertised but at least its working'])\n",
    "test = pad_sequences(sequence, maxlen=max_len)\n",
    "pred = model.predict(test)\n",
    "print(pred)\n",
    "if pred > 0.5:\n",
    "  print('Positive')\n",
    "else:\n",
    "  print('Negative')"
   ]
  },
  {
   "cell_type": "code",
   "execution_count": 57,
   "id": "f25c1f3f",
   "metadata": {},
   "outputs": [
    {
     "name": "stdout",
     "output_type": "stream",
     "text": [
      "1/1 [==============================] - 0s 36ms/step\n",
      "[[0.00207126]]\n",
      "Negative\n"
     ]
    }
   ],
   "source": [
    "# Lets try a longer review\n",
    "# Definitely overfit that or I trained the model too much\n",
    "# Which could be a possibility due to my incompetance\n",
    "sequence = tokenizer.texts_to_sequences(['Cheap and flimsy yet I love this product and have used the this product almost on a daily basis for the last 15 years. This would be my fourth one over that time period. I ordered this when my last one stopped working.'])\n",
    "test = pad_sequences(sequence, maxlen=max_len)\n",
    "pred = model.predict(test)\n",
    "print(pred)\n",
    "if pred > 0.5:\n",
    "  print('Positive')\n",
    "else:\n"
   ]
  },
  {
   "cell_type": "code",
   "execution_count": null,
   "id": "4275f393",
   "metadata": {},
   "outputs": [],
   "source": []
  }
 ],
 "metadata": {
  "kernelspec": {
   "display_name": "Python 3 (ipykernel)",
   "language": "python",
   "name": "python3"
  },
  "language_info": {
   "codemirror_mode": {
    "name": "ipython",
    "version": 3
   },
   "file_extension": ".py",
   "mimetype": "text/x-python",
   "name": "python",
   "nbconvert_exporter": "python",
   "pygments_lexer": "ipython3",
   "version": "3.9.18"
  }
 },
 "nbformat": 4,
 "nbformat_minor": 5
}
